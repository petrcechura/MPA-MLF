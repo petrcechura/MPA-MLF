{
  "cells": [
    {
      "cell_type": "markdown",
      "id": "9457fdc4-1690-4c41-8e88-1597fc2a687c",
      "metadata": {
        "id": "9457fdc4-1690-4c41-8e88-1597fc2a687c"
      },
      "source": [
        " # MPA-MLF, Lab 7 - Convolutional Neural Network"
      ]
    },
    {
      "cell_type": "markdown",
      "id": "ffa6be62-ed89-4801-b297-f1a1211ce297",
      "metadata": {
        "id": "ffa6be62-ed89-4801-b297-f1a1211ce297"
      },
      "source": [
        "## Exercise - Hand-written digits recognition"
      ]
    },
    {
      "cell_type": "markdown",
      "id": "89808395-7ffe-4df1-91e5-f31ce090b932",
      "metadata": {
        "id": "89808395-7ffe-4df1-91e5-f31ce090b932"
      },
      "source": [
        "Create CNN which will process and recognize handwritten digits. For this purposes please use the MNIST database (Modified National Institute of Standards and Technology database) which is a large database of handwritten digits that is commonly used for training various image processing systems.\n",
        "\n",
        "The datasample of the MNIST datasets can be see in the following picture"
      ]
    },
    {
      "cell_type": "markdown",
      "id": "87b6e2b8-73da-4476-b47d-2f4aafead049",
      "metadata": {
        "id": "87b6e2b8-73da-4476-b47d-2f4aafead049"
      },
      "source": [
        "![mnist_data_sample.png](attachment:eb3e0d6a-ccb0-499d-9847-ecbc554dbce0.png)"
      ]
    },
    {
      "cell_type": "markdown",
      "id": "0c65f181-d971-4f0e-ba63-17c242a65d6c",
      "metadata": {
        "id": "0c65f181-d971-4f0e-ba63-17c242a65d6c"
      },
      "source": [
        "### Task description"
      ]
    },
    {
      "cell_type": "markdown",
      "id": "1b6b04cf-eeec-404a-824b-f9aa1d3b7d7a",
      "metadata": {
        "id": "1b6b04cf-eeec-404a-824b-f9aa1d3b7d7a"
      },
      "source": [
        "In the terms of machine learning, the Hand-written digits recognition can be threated as a multi-class classification problem. This is very important knowledge to structure our model in the correct way (Especially the output-layer, including the number of neurons and activations function and the overall loss function and classification metrics)"
      ]
    },
    {
      "cell_type": "markdown",
      "id": "b724de14-3931-4983-b443-7e0106d190dc",
      "metadata": {
        "id": "b724de14-3931-4983-b443-7e0106d190dc"
      },
      "source": [
        "### 0. Import libraries"
      ]
    },
    {
      "cell_type": "markdown",
      "id": "1ffd9b11-f9c1-4b3f-8dd1-cbb18487a075",
      "metadata": {
        "id": "1ffd9b11-f9c1-4b3f-8dd1-cbb18487a075"
      },
      "source": [
        "Import the all necessary libraries, you can get inspired by the previous exercises. You can improst the libraries gradually, when do you progressing with the task"
      ]
    },
    {
      "cell_type": "code",
      "execution_count": 154,
      "id": "1f692dd4-0262-4e7a-b029-69d8280f14d2",
      "metadata": {
        "id": "1f692dd4-0262-4e7a-b029-69d8280f14d2"
      },
      "outputs": [],
      "source": [
        "from tensorflow import keras\n",
        "from keras.models import Sequential\n",
        "from keras.layers import InputLayer\n",
        "from keras.layers import Conv2D\n",
        "from keras.layers import MaxPooling2D\n",
        "from keras.layers import Flatten\n",
        "from keras.layers import Dense\n",
        "from keras.optimizers import SGD\n",
        "from keras.datasets import mnist\n",
        "import numpy as np\n",
        "import matplotlib\n",
        "import matplotlib.pyplot as plt\n",
        "###################################\n",
        "# Write your own code here #\n",
        "\n",
        "\n",
        "\n",
        "###################################\n",
        "font = {'weight' : 'bold',\n",
        "        'size'   : 12}\n",
        "\n",
        "matplotlib.rc('font', **font)"
      ]
    },
    {
      "cell_type": "markdown",
      "id": "9c4af957-fee1-4806-9d68-797d74c332df",
      "metadata": {
        "id": "9c4af957-fee1-4806-9d68-797d74c332df"
      },
      "source": [
        "### 1. Dataset"
      ]
    },
    {
      "cell_type": "markdown",
      "id": "33cf2443-c2ed-4aaa-9b10-fa598a4fb6cb",
      "metadata": {
        "id": "33cf2443-c2ed-4aaa-9b10-fa598a4fb6cb"
      },
      "source": [
        "#### 1.1 Load Dataset"
      ]
    },
    {
      "cell_type": "markdown",
      "id": "dd860d81-ab4d-48d2-a071-e0e8aec8000f",
      "metadata": {
        "id": "dd860d81-ab4d-48d2-a071-e0e8aec8000f"
      },
      "source": [
        "You can load the dataset using the following code"
      ]
    },
    {
      "cell_type": "code",
      "execution_count": 155,
      "id": "1b6f52dc-788b-4481-95f2-c4de31cae037",
      "metadata": {
        "id": "1b6f52dc-788b-4481-95f2-c4de31cae037"
      },
      "outputs": [],
      "source": [
        "(X_train, y_train), (X_test, y_test) = mnist.load_data()\n",
        "\n",
        "# preprocess\n",
        "X_train = X_train.astype(np.float32)/255\n",
        "X_test = X_test.astype(np.float32)/255"
      ]
    },
    {
      "cell_type": "markdown",
      "id": "853727ee-5836-4345-84dd-b0135b33e6d3",
      "metadata": {
        "id": "853727ee-5836-4345-84dd-b0135b33e6d3"
      },
      "source": [
        "#### 1.2 Dataset examination"
      ]
    },
    {
      "cell_type": "markdown",
      "id": "93e9f48e-3192-494a-9b0f-e2f66a7c286e",
      "metadata": {
        "id": "93e9f48e-3192-494a-9b0f-e2f66a7c286e"
      },
      "source": [
        "Using the following code, display random images,"
      ]
    },
    {
      "cell_type": "code",
      "execution_count": 97,
      "id": "522d7c5e-f50b-46d0-b79d-799d40ff2f1e",
      "metadata": {
        "id": "522d7c5e-f50b-46d0-b79d-799d40ff2f1e"
      },
      "outputs": [],
      "source": [
        "def display_random_images(x_data: np.array, y_data: np.array, count: int = 10) -> None:\n",
        "  index = np.array(len(x_data))\n",
        "  selected_ind = np.random.choice(index, count)\n",
        "\n",
        "  selected_img = x_data[selected_ind]\n",
        "  selected_labels = y_data[selected_ind]\n",
        "  concat_img = np.concatenate(selected_img, axis=1)\n",
        "\n",
        "  plt.figure(figsize=(20,10))\n",
        "  plt.imshow(concat_img, cmap=\"gray\")\n",
        "\n",
        "  for id_label, label in enumerate(selected_labels):\n",
        "    plt.text(14 + 28*id_label, 28*(5/4), label)\n",
        "  plt.axis('off')\n",
        "  plt.show()"
      ]
    },
    {
      "cell_type": "code",
      "execution_count": 48,
      "id": "452ea9c5-8438-4b10-8a0e-ef0e418ba5a0",
      "metadata": {
        "colab": {
          "base_uri": "https://localhost:8080/",
          "height": 140
        },
        "id": "452ea9c5-8438-4b10-8a0e-ef0e418ba5a0",
        "outputId": "019ef204-48f8-44ad-cb37-39165e7af54b"
      },
      "outputs": [
        {
          "output_type": "display_data",
          "data": {
            "text/plain": [
              "<Figure size 2000x1000 with 1 Axes>"
            ],
            "image/png": "[encoded data removed]"
          },
          "metadata": {}
        }
      ],
      "source": [
        "display_random_images(X_train, y_train)"
      ]
    },
    {
      "cell_type": "markdown",
      "id": "6c0e3651-3921-4485-bdae-3731afcf03a2",
      "metadata": {
        "id": "6c0e3651-3921-4485-bdae-3731afcf03a2"
      },
      "source": [
        "Examine the dataset. Answer for yourself the following questions:\n",
        "\n",
        "- What kind of data occurs in our dataset?\n",
        "- How many data samples do we have in train and test datasets?\n",
        "- How many colour channels does the input variable have?\n",
        "- What is the size of the input images?\n",
        "- What is the necessary preprocessing of the input data X?\n",
        "- How many classes do we have in target varoable?\n",
        "- What is the necessary preprocessing of target variable y?"
      ]
    },
    {
      "cell_type": "markdown",
      "id": "08273dd4-05d0-4cd8-b989-eca8a4d1328a",
      "metadata": {
        "id": "08273dd4-05d0-4cd8-b989-eca8a4d1328a"
      },
      "source": [
        "#### 1.3 Dataset preprocessing"
      ]
    },
    {
      "cell_type": "markdown",
      "id": "2c16ee55-312f-4ee5-86cd-e09426e16e82",
      "metadata": {
        "id": "2c16ee55-312f-4ee5-86cd-e09426e16e82"
      },
      "source": [
        "Perform the necessary data preprocessing. The best way to preprocess the data would be one hot encoding for the target variable and normalization for the input variable (using min-max or z-score normalization)"
      ]
    },
    {
      "cell_type": "code",
      "execution_count": 156,
      "id": "e07697fb-0feb-4df1-8ed2-b7b20f0c015f",
      "metadata": {
        "colab": {
          "base_uri": "https://localhost:8080/"
        },
        "id": "e07697fb-0feb-4df1-8ed2-b7b20f0c015f",
        "outputId": "f944f2ca-2d0a-4ccd-e776-59645a2711c9"
      },
      "outputs": [
        {
          "output_type": "execute_result",
          "data": {
            "text/plain": [
              "(60000, 28, 28)"
            ]
          },
          "metadata": {},
          "execution_count": 156
        }
      ],
      "source": [
        "###################################\n",
        "# Write your own code here #\n",
        "\n",
        "y_test_encoded = keras.utils.to_categorical(y_test)\n",
        "y_train_encoded = keras.utils.to_categorical(y_train)\n",
        "###################################\n",
        "\n",
        "X_train.shape"
      ]
    },
    {
      "cell_type": "markdown",
      "id": "d20d5fef-cbca-48a2-844f-c9638f0b6bf9",
      "metadata": {
        "id": "d20d5fef-cbca-48a2-844f-c9638f0b6bf9"
      },
      "source": [
        "### 2. Build the model"
      ]
    },
    {
      "cell_type": "markdown",
      "id": "ea554fcf-7acd-4453-b18d-b4982f6a10eb",
      "metadata": {
        "id": "ea554fcf-7acd-4453-b18d-b4982f6a10eb"
      },
      "source": [
        "In this section, your task will be to define the model architecture. The intial structure can be defined as follows:\n",
        "\n",
        "Input_layer -> Convolutional_layer(kernel_size=(3,3), no_channels=32) -> Maxpooling_layer(kernel_size=(2, 2)) -> Flatten_layer -> Dense_layer (num_classes)\n",
        "    \n",
        "    \n"
      ]
    },
    {
      "cell_type": "markdown",
      "id": "0ffd3896-079e-4758-9579-387f33af9691",
      "metadata": {
        "id": "0ffd3896-079e-4758-9579-387f33af9691"
      },
      "source": [
        "#### 2.1 Define the model structure"
      ]
    },
    {
      "cell_type": "code",
      "execution_count": 157,
      "id": "77238bdf-ad74-4246-920d-a1dc28564306",
      "metadata": {
        "colab": {
          "base_uri": "https://localhost:8080/"
        },
        "id": "77238bdf-ad74-4246-920d-a1dc28564306",
        "outputId": "2796a97c-6e9e-442b-f746-31233dcdd7bf"
      },
      "outputs": [
        {
          "output_type": "stream",
          "name": "stdout",
          "text": [
            "Model: \"sequential_58\"\n",
            "_________________________________________________________________\n",
            " Layer (type)                Output Shape              Param #   \n",
            "=================================================================\n",
            " conv2d_90 (Conv2D)          (None, 26, 26, 256)       2560      \n",
            "                                                                 \n",
            " max_pooling2d_61 (MaxPooli  (None, 8, 8, 256)         0         \n",
            " ng2D)                                                           \n",
            "                                                                 \n",
            " conv2d_91 (Conv2D)          (None, 6, 6, 128)         295040    \n",
            "                                                                 \n",
            " max_pooling2d_62 (MaxPooli  (None, 3, 3, 128)         0         \n",
            " ng2D)                                                           \n",
            "                                                                 \n",
            " conv2d_92 (Conv2D)          (None, 1, 1, 64)          73792     \n",
            "                                                                 \n",
            " flatten_41 (Flatten)        (None, 64)                0         \n",
            "                                                                 \n",
            " dense_18 (Dense)            (None, 10)                650       \n",
            "                                                                 \n",
            "=================================================================\n",
            "Total params: 372042 (1.42 MB)\n",
            "Trainable params: 372042 (1.42 MB)\n",
            "Non-trainable params: 0 (0.00 Byte)\n",
            "_________________________________________________________________\n"
          ]
        }
      ],
      "source": [
        "model = Sequential()\n",
        "###################################\n",
        "# Write your own code here #\n",
        "\n",
        "model.add(InputLayer(input_shape=(28,28,1)))\n",
        "model.add(Conv2D(256, (3,3)))\n",
        "model.add(MaxPooling2D(pool_size=(3,3)))\n",
        "model.add(Conv2D(128, (3,3)))\n",
        "model.add(MaxPooling2D(pool_size=(2,2)))\n",
        "model.add(Conv2D(64, (3,3)))\n",
        "model.add(Flatten(input_shape=(28,28,3)))\n",
        "model.add(Dense(10, activation='sigmoid'))\n",
        "\n",
        "\n",
        "model.summary()\n",
        "###################################\n"
      ]
    },
    {
      "cell_type": "markdown",
      "id": "fde4b3eb-90e1-4724-89df-0db1872560d4",
      "metadata": {
        "id": "fde4b3eb-90e1-4724-89df-0db1872560d4"
      },
      "source": [
        "#### 2.2 Compile the model"
      ]
    },
    {
      "cell_type": "markdown",
      "id": "a467f8fb-8bfc-4cd4-9eee-820c1b9b5a52",
      "metadata": {
        "id": "a467f8fb-8bfc-4cd4-9eee-820c1b9b5a52"
      },
      "source": [
        "Build the model, use the relevant metrics, optimizer and loss function. While choosing the metrics and loss function, consider fact that we are are trying to solve the multiclass classification problem"
      ]
    },
    {
      "cell_type": "code",
      "execution_count": 158,
      "id": "e6d1a924-9e2f-4ca2-b4d6-4724f51ae065",
      "metadata": {
        "id": "e6d1a924-9e2f-4ca2-b4d6-4724f51ae065"
      },
      "outputs": [],
      "source": [
        "loss = None\n",
        "optimizer = None\n",
        "metrics = None\n",
        "learning_rate = 0.0\n",
        "\n",
        "###################################\n",
        "# Write your own code here #\n",
        "opt = 'SDG'\n",
        "rate = 0.05\n",
        "\n",
        "match opt:\n",
        "\n",
        "  case 'SDG':\n",
        "    optimizer = SGD(learning_rate = rate)\n",
        "  case 'Adam':\n",
        "    optimizer = keras.optimizers.Adam(learning_rate = rate)\n",
        "  case 'RMSprob':\n",
        "    optimizer = keras.optimizers.RMSprop(learning_rate = rate)\n",
        "  case 'Lion':\n",
        "    optimizer = keras.optimizers.Lion(learning_rate = rate)\n",
        "  case _ :\n",
        "    optimizer = SGD(learning_rate = 0.01)\n",
        "\n",
        "\n",
        "\n",
        "model.compile(loss='categorical_crossentropy', optimizer=optimizer, metrics=['accuracy'])\n",
        "\n",
        "\n",
        "###################################"
      ]
    },
    {
      "cell_type": "markdown",
      "id": "f146b70f-2e8c-484f-abfd-6fc4a8b8177b",
      "metadata": {
        "id": "f146b70f-2e8c-484f-abfd-6fc4a8b8177b"
      },
      "source": [
        "### 3. Training stage"
      ]
    },
    {
      "cell_type": "markdown",
      "id": "cb1de787-9e40-47e2-bc54-44ccd1864357",
      "metadata": {
        "id": "cb1de787-9e40-47e2-bc54-44ccd1864357"
      },
      "source": [
        "#### 3.1 Model training"
      ]
    },
    {
      "cell_type": "markdown",
      "id": "2b9c7722-aed7-4b2d-a292-572921f0734b",
      "metadata": {
        "id": "2b9c7722-aed7-4b2d-a292-572921f0734b"
      },
      "source": [
        "train your model, define the relevant hyperparameters (no. epochs, batch_size), use 20p of the training data for validation"
      ]
    },
    {
      "cell_type": "code",
      "execution_count": 159,
      "id": "4f858566-601d-4873-ad02-a0635bd8f526",
      "metadata": {
        "colab": {
          "base_uri": "https://localhost:8080/"
        },
        "id": "4f858566-601d-4873-ad02-a0635bd8f526",
        "outputId": "91143d2e-7c79-47f8-dc58-ca221fef861d"
      },
      "outputs": [
        {
          "output_type": "stream",
          "name": "stdout",
          "text": [
            "Epoch 1/25\n"
          ]
        },
        {
          "output_type": "stream",
          "name": "stderr",
          "text": [
            "Exception ignored in: <function _xla_gc_callback at 0x7f2b912827a0>\n",
            "Traceback (most recent call last):\n",
            "  File \"/usr/local/lib/python3.10/dist-packages/jax/_src/lib/__init__.py\", line 97, in _xla_gc_callback\n",
            "    def _xla_gc_callback(*args):\n",
            "KeyboardInterrupt: \n"
          ]
        },
        {
          "output_type": "stream",
          "name": "stdout",
          "text": [
            "375/375 [==============================] - 58s 10ms/step - loss: 0.5670 - accuracy: 0.8405 - val_loss: 0.1765 - val_accuracy: 0.9477\n",
            "Epoch 2/25\n",
            "375/375 [==============================] - 4s 10ms/step - loss: 0.1576 - accuracy: 0.9519 - val_loss: 0.1185 - val_accuracy: 0.9655\n",
            "Epoch 3/25\n",
            "375/375 [==============================] - 4s 10ms/step - loss: 0.1108 - accuracy: 0.9661 - val_loss: 0.0916 - val_accuracy: 0.9735\n",
            "Epoch 4/25\n",
            "375/375 [==============================] - 4s 10ms/step - loss: 0.0905 - accuracy: 0.9722 - val_loss: 0.0816 - val_accuracy: 0.9756\n",
            "Epoch 5/25\n",
            "375/375 [==============================] - 4s 11ms/step - loss: 0.0779 - accuracy: 0.9758 - val_loss: 0.0706 - val_accuracy: 0.9790\n",
            "Epoch 6/25\n",
            "375/375 [==============================] - 3s 9ms/step - loss: 0.0682 - accuracy: 0.9787 - val_loss: 0.0737 - val_accuracy: 0.9779\n",
            "Epoch 7/25\n",
            "375/375 [==============================] - 3s 9ms/step - loss: 0.0602 - accuracy: 0.9819 - val_loss: 0.0672 - val_accuracy: 0.9802\n",
            "Epoch 8/25\n",
            "375/375 [==============================] - 4s 11ms/step - loss: 0.0544 - accuracy: 0.9833 - val_loss: 0.0584 - val_accuracy: 0.9824\n",
            "Epoch 9/25\n",
            "375/375 [==============================] - 4s 10ms/step - loss: 0.0493 - accuracy: 0.9851 - val_loss: 0.0532 - val_accuracy: 0.9847\n",
            "Epoch 10/25\n",
            "375/375 [==============================] - 4s 9ms/step - loss: 0.0459 - accuracy: 0.9860 - val_loss: 0.0560 - val_accuracy: 0.9837\n",
            "Epoch 11/25\n",
            "375/375 [==============================] - 4s 10ms/step - loss: 0.0426 - accuracy: 0.9869 - val_loss: 0.0508 - val_accuracy: 0.9847\n",
            "Epoch 12/25\n",
            "375/375 [==============================] - 4s 10ms/step - loss: 0.0398 - accuracy: 0.9879 - val_loss: 0.0544 - val_accuracy: 0.9845\n",
            "Epoch 13/25\n",
            "375/375 [==============================] - 4s 10ms/step - loss: 0.0376 - accuracy: 0.9885 - val_loss: 0.0497 - val_accuracy: 0.9847\n",
            "Epoch 14/25\n",
            "375/375 [==============================] - 4s 10ms/step - loss: 0.0350 - accuracy: 0.9901 - val_loss: 0.0472 - val_accuracy: 0.9863\n",
            "Epoch 15/25\n",
            "375/375 [==============================] - 4s 10ms/step - loss: 0.0330 - accuracy: 0.9904 - val_loss: 0.0467 - val_accuracy: 0.9865\n",
            "Epoch 16/25\n",
            "375/375 [==============================] - 4s 9ms/step - loss: 0.0309 - accuracy: 0.9907 - val_loss: 0.0475 - val_accuracy: 0.9868\n",
            "Epoch 17/25\n",
            "375/375 [==============================] - 4s 10ms/step - loss: 0.0294 - accuracy: 0.9914 - val_loss: 0.0495 - val_accuracy: 0.9852\n",
            "Epoch 18/25\n",
            "375/375 [==============================] - 4s 10ms/step - loss: 0.0277 - accuracy: 0.9921 - val_loss: 0.0434 - val_accuracy: 0.9868\n",
            "Epoch 19/25\n",
            "375/375 [==============================] - 4s 10ms/step - loss: 0.0256 - accuracy: 0.9927 - val_loss: 0.0467 - val_accuracy: 0.9867\n",
            "Epoch 20/25\n",
            "375/375 [==============================] - 4s 10ms/step - loss: 0.0249 - accuracy: 0.9926 - val_loss: 0.0493 - val_accuracy: 0.9854\n",
            "Epoch 21/25\n",
            "375/375 [==============================] - 4s 11ms/step - loss: 0.0235 - accuracy: 0.9934 - val_loss: 0.0445 - val_accuracy: 0.9878\n",
            "Epoch 22/25\n",
            "375/375 [==============================] - 4s 9ms/step - loss: 0.0225 - accuracy: 0.9935 - val_loss: 0.0441 - val_accuracy: 0.9872\n",
            "Epoch 23/25\n",
            "375/375 [==============================] - 4s 10ms/step - loss: 0.0209 - accuracy: 0.9940 - val_loss: 0.0422 - val_accuracy: 0.9877\n",
            "Epoch 24/25\n",
            "375/375 [==============================] - 4s 11ms/step - loss: 0.0195 - accuracy: 0.9945 - val_loss: 0.0428 - val_accuracy: 0.9877\n",
            "Epoch 25/25\n",
            "375/375 [==============================] - 4s 10ms/step - loss: 0.0186 - accuracy: 0.9946 - val_loss: 0.0513 - val_accuracy: 0.9859\n"
          ]
        }
      ],
      "source": [
        "###################################\n",
        "# Write your own code here #\n",
        "\n",
        "history = model.fit(X_train, y_train_encoded, epochs=25, batch_size=128, validation_split = 0.2)\n",
        "\n",
        "###################################"
      ]
    },
    {
      "cell_type": "markdown",
      "id": "45651f2d-5cc4-4896-8edc-f58b50fed605",
      "metadata": {
        "id": "45651f2d-5cc4-4896-8edc-f58b50fed605"
      },
      "source": [
        "#### 3.1 Model Evaluation on validation data"
      ]
    },
    {
      "cell_type": "markdown",
      "id": "eb4ea2f2-fcc8-4308-82f6-3dbd5857e989",
      "metadata": {
        "id": "eb4ea2f2-fcc8-4308-82f6-3dbd5857e989"
      },
      "source": [
        "Plot the development of the training and validation loss, and training and validation metrics."
      ]
    },
    {
      "cell_type": "code",
      "execution_count": 160,
      "id": "841d1e30-e448-4b53-b3fc-9b97863391bb",
      "metadata": {
        "colab": {
          "base_uri": "https://localhost:8080/"
        },
        "id": "841d1e30-e448-4b53-b3fc-9b97863391bb",
        "outputId": "ac396446-e911-4db1-ed72-925740d4890f"
      },
      "outputs": [
        {
          "output_type": "stream",
          "name": "stdout",
          "text": [
            "Test loss: 0.03928123041987419\n",
            "Test accuracy: 98.7500011920929 %\n"
          ]
        }
      ],
      "source": [
        "###################################\n",
        "# Write your own code here #\n",
        "score = model.evaluate(X_test, y_test_encoded, verbose=0)\n",
        "print('Test loss:', score[0])\n",
        "print(f'Test accuracy: {score[1]*100} %')\n",
        "\n",
        "\n",
        "###################################"
      ]
    },
    {
      "cell_type": "markdown",
      "id": "22cd86fb-6b4c-4299-a077-fec0ab62464c",
      "metadata": {
        "id": "22cd86fb-6b4c-4299-a077-fec0ab62464c"
      },
      "source": [
        "### 4. Model evaluation"
      ]
    },
    {
      "cell_type": "markdown",
      "id": "9d93b7ad-3416-451d-8762-968f4cf1dd13",
      "metadata": {
        "id": "9d93b7ad-3416-451d-8762-968f4cf1dd13"
      },
      "source": [
        "Evaluate the model on the testing dataset using the relevant metrics. Use the confusion metrics as the one of the metrics."
      ]
    },
    {
      "cell_type": "code",
      "execution_count": 161,
      "id": "8134b757-aca1-4a0d-a0d2-3a3d0daa8d38",
      "metadata": {
        "colab": {
          "base_uri": "https://localhost:8080/",
          "height": 451
        },
        "id": "8134b757-aca1-4a0d-a0d2-3a3d0daa8d38",
        "outputId": "32adaa17-efbe-4079-d803-433b92d4c3fe"
      },
      "outputs": [
        {
          "output_type": "execute_result",
          "data": {
            "text/plain": [
              "[<matplotlib.lines.Line2D at 0x7f2b699e70a0>]"
            ]
          },
          "metadata": {},
          "execution_count": 161
        },
        {
          "output_type": "display_data",
          "data": {
            "text/plain": [
              "<Figure size 640x480 with 1 Axes>"
            ],
            "image/png": "[encoded data removed]"
          },
          "metadata": {}
        }
      ],
      "source": [
        "###################################\n",
        "# Write your own code here #\n",
        "plt.figure()\n",
        "plt.plot(history.history['loss'])\n",
        "plt.plot(history.history['val_loss'])\n",
        "\n",
        "\n",
        "###################################"
      ]
    },
    {
      "cell_type": "markdown",
      "id": "44a3f72d-1d76-4d98-9f03-1f8293ed6ad6",
      "metadata": {
        "id": "44a3f72d-1d76-4d98-9f03-1f8293ed6ad6"
      },
      "source": [
        "### 5. Hyperparameter tunning and regularization techniques"
      ]
    },
    {
      "cell_type": "markdown",
      "id": "e6140057-ce25-4e97-ae7b-81a47a30bebc",
      "metadata": {
        "id": "e6140057-ce25-4e97-ae7b-81a47a30bebc"
      },
      "source": [
        "When your code is ready and fully functional, try several changes in the hyperparameters and see how they influence the testing metrics. Try changes in the network structure. You can also try adding regularization techniques such as L1, L2, and Dropout. Based on the development of training and validation loss, try to identify overfitting and avoid it"
      ]
    },
    {
      "cell_type": "code",
      "execution_count": 162,
      "id": "f1f4b10b-7487-45f4-8702-267715e4041c",
      "metadata": {
        "id": "f1f4b10b-7487-45f4-8702-267715e4041c"
      },
      "outputs": [],
      "source": [
        "\n",
        "def myprint(s):\n",
        "    with open('modelsummary.txt','a') as f:\n",
        "        print(s, file=f)\n",
        "\n",
        "model.summary(print_fn=myprint)\n",
        "with open('modelsummary.txt','a') as f:\n",
        "    print('Test loss: {0}'.format(score[0]), file=f)\n",
        "    print(f'Test accuracy: {score[1]*100} %\\n\\n\\n\\n', file=f)"
      ]
    }
  ],
  "metadata": {
    "kernelspec": {
      "display_name": "Python 3",
      "name": "python3"
    },
    "language_info": {
      "codemirror_mode": {
        "name": "ipython",
        "version": 3
      },
      "file_extension": ".py",
      "mimetype": "text/x-python",
      "name": "python",
      "nbconvert_exporter": "python",
      "pygments_lexer": "ipython3",
      "version": "3.10.12"
    },
    "colab": {
      "provenance": [],
      "gpuType": "T4"
    },
    "accelerator": "GPU"
  },
  "nbformat": 4,
  "nbformat_minor": 5
}